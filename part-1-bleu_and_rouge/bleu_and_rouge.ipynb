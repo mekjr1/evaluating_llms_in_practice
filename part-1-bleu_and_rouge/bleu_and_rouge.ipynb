{
 "cells": [
  {
   "cell_type": "code",
   "execution_count": null,
   "id": "695bc74e",
   "metadata": {
    "vscode": {
     "languageId": "plaintext"
    }
   },
   "outputs": [],
   "source": [
    "!pip install transformers datasets evaluate rouge-score nltk"
   ]
  },
  {
   "cell_type": "markdown",
   "id": "fd84789f",
   "metadata": {},
   "source": []
  },
  {
   "cell_type": "code",
   "execution_count": null,
   "id": "a310a2fa",
   "metadata": {
    "vscode": {
     "languageId": "plaintext"
    }
   },
   "outputs": [],
   "source": [
    "from transformers import pipeline\n",
    "from datasets import load_dataset\n",
    "import evaluate"
   ]
  },
  {
   "cell_type": "code",
   "execution_count": null,
   "id": "bd7648f7",
   "metadata": {
    "vscode": {
     "languageId": "plaintext"
    }
   },
   "outputs": [],
   "source": []
  },
  {
   "cell_type": "markdown",
   "id": "53821981",
   "metadata": {},
   "source": [
    "# Load a small subset of CNN/DailyMail dataset\n",
    "dataset = load_dataset(\"cnn_dailymail\", \"3.0.0\", split=\"test[:20]\")\n",
    "\n"
   ]
  },
  {
   "cell_type": "code",
   "execution_count": null,
   "id": "07fcb891",
   "metadata": {
    "vscode": {
     "languageId": "plaintext"
    }
   },
   "outputs": [],
   "source": [
    "# Two summarization models\n",
    "model_a = pipeline(\"summarization\", model=\"sshleifer/distilbart-cnn-12-6\")\n",
    "model_b = pipeline(\"summarization\", model=\"facebook/bart-base\")\n",
    "\n"
   ]
  },
  {
   "cell_type": "code",
   "execution_count": null,
   "id": "fb3aa309",
   "metadata": {
    "vscode": {
     "languageId": "plaintext"
    }
   },
   "outputs": [],
   "source": [
    "# Pick one article\n",
    "article = dataset[0][\"article\"]\n",
    "reference = dataset[0][\"highlights\"]\n",
    "\n"
   ]
  },
  {
   "cell_type": "code",
   "execution_count": null,
   "id": "d36ad7aa",
   "metadata": {
    "vscode": {
     "languageId": "plaintext"
    }
   },
   "outputs": [],
   "source": [
    "summary_a = model_a(article, max_length=60, min_length=20, do_sample=False)[0][\"summary_text\"]\n",
    "summary_b = model_b(article, max_length=60, min_length=20, do_sample=False)[0][\"summary_text\"]\n",
    "\n"
   ]
  },
  {
   "cell_type": "code",
   "execution_count": null,
   "id": "54258768",
   "metadata": {
    "vscode": {
     "languageId": "plaintext"
    }
   },
   "outputs": [],
   "source": [
    "print(\"Reference:\", reference)\n",
    "print(\"\\nModel A:\", summary_a)\n",
    "print(\"\\nModel B:\", summary_b)\n",
    "\n"
   ]
  },
  {
   "cell_type": "code",
   "execution_count": null,
   "id": "c4969864",
   "metadata": {
    "vscode": {
     "languageId": "plaintext"
    }
   },
   "outputs": [],
   "source": [
    "# Metrics\n",
    "bleu = evaluate.load(\"bleu\")\n",
    "rouge = evaluate.load(\"rouge\")\n",
    "\n"
   ]
  },
  {
   "cell_type": "code",
   "execution_count": null,
   "id": "c8d58043",
   "metadata": {
    "vscode": {
     "languageId": "plaintext"
    }
   },
   "outputs": [],
   "source": [
    "bleu_a = bleu.compute(predictions=[summary_a], references=[[reference]])\n",
    "bleu_b = bleu.compute(predictions=[summary_b], references=[[reference]])\n",
    "\n"
   ]
  },
  {
   "cell_type": "code",
   "execution_count": null,
   "id": "312c6b98",
   "metadata": {
    "vscode": {
     "languageId": "plaintext"
    }
   },
   "outputs": [],
   "source": [
    "rouge_a = rouge.compute(predictions=[summary_a], references=[reference])\n",
    "rouge_b = rouge.compute(predictions=[summary_b], references=[reference])\n",
    "\n"
   ]
  },
  {
   "cell_type": "code",
   "execution_count": null,
   "id": "e3325dc2",
   "metadata": {
    "vscode": {
     "languageId": "plaintext"
    }
   },
   "outputs": [],
   "source": [
    "print(\"\\nModel A BLEU:\", bleu_a)\n",
    "print(\"Model B BLEU:\", bleu_b)\n",
    "print(\"\\nModel A ROUGE:\", rouge_a)\n",
    "print(\"Model B ROUGE:\", rouge_b)"
   ]
  }
 ],
 "metadata": {
  "language_info": {
   "name": "python"
  }
 },
 "nbformat": 4,
 "nbformat_minor": 5
}
