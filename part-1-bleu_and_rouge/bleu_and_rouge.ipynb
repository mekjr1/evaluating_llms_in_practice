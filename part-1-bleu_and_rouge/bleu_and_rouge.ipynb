{
 "cells": [
  {
   "cell_type": "markdown",
   "id": "title-cell",
   "metadata": {},
   "source": [
    "# BLEU and ROUGE Evaluation\n",
    "\n",
    "[![Open In Colab](https://colab.research.google.com/assets/colab-badge.svg)](https://colab.research.google.com/github/mekjr1/evaluating_llms_in_practice/blob/master/part-1-bleu_and_rouge/bleu_and_rouge.ipynb?hl=en#runtime_type=gpu)\n",
    "\n",
    "This notebook demonstrates how to evaluate text summarization models using BLEU and ROUGE metrics. The notebook is configured to use GPU runtime for faster model inference."
   ]
  },
  {
   "cell_type": "code",
   "execution_count": null,
   "id": "install-deps",
   "metadata": {},
   "outputs": [],
   "source": [
    "!pip install transformers datasets evaluate rouge-score nltk"
   ]
  },
  {
   "cell_type": "code",
   "execution_count": null,
   "id": "imports",
   "metadata": {},
   "outputs": [],
   "source": [
    "from transformers import pipeline\n",
    "from datasets import load_dataset\n",
    "import evaluate"
   ]
  },
  {
   "cell_type": "code",
   "execution_count": null,
   "id": "e59e7384",
   "metadata": {},
   "outputs": [],
   "source": []
  },
  {
   "cell_type": "code",
   "execution_count": null,
   "id": "load-dataset",
   "metadata": {},
   "outputs": [],
   "source": [
    "# Load a small subset of CNN/DailyMail dataset\n",
    "dataset = load_dataset(\"cnn_dailymail\", \"3.0.0\", split=\"test[:20]\")"
   ]
  },
  {
   "cell_type": "code",
   "execution_count": null,
   "id": "load-models",
   "metadata": {},
   "outputs": [],
   "source": [
    "# Two summarization models\n",
    "model_a = pipeline(\"summarization\", model=\"sshleifer/distilbart-cnn-12-6\")\n",
    "model_b = pipeline(\"summarization\", model=\"facebook/bart-base\")"
   ]
  },
  {
   "cell_type": "code",
   "execution_count": null,
   "id": "select-article",
   "metadata": {},
   "outputs": [],
   "source": [
    "# Pick one article\n",
    "article = dataset[0][\"article\"]\n",
    "reference = dataset[0][\"highlights\"]"
   ]
  },
  {
   "cell_type": "code",
   "execution_count": null,
   "id": "generate-summaries",
   "metadata": {},
   "outputs": [],
   "source": [
    "summary_a = model_a(article, max_length=60, min_length=20, do_sample=False)[0][\"summary_text\"]\n",
    "summary_b = model_b(article, max_length=60, min_length=20, do_sample=False)[0][\"summary_text\"]"
   ]
  },
  {
   "cell_type": "code",
   "execution_count": null,
   "id": "display-summaries",
   "metadata": {},
   "outputs": [],
   "source": [
    "print(\"Reference:\", reference)\n",
    "print(\"\\nModel A:\", summary_a)\n",
    "print(\"\\nModel B:\", summary_b)"
   ]
  },
  {
   "cell_type": "code",
   "execution_count": null,
   "id": "load-metrics",
   "metadata": {},
   "outputs": [],
   "source": [
    "# Load evaluation metrics\n",
    "bleu = evaluate.load(\"bleu\")\n",
    "rouge = evaluate.load(\"rouge\")"
   ]
  },
  {
   "cell_type": "code",
   "execution_count": null,
   "id": "compute-bleu",
   "metadata": {},
   "outputs": [],
   "source": [
    "bleu_a = bleu.compute(predictions=[summary_a], references=[[reference]])\n",
    "bleu_b = bleu.compute(predictions=[summary_b], references=[[reference]])"
   ]
  },
  {
   "cell_type": "code",
   "execution_count": null,
   "id": "compute-rouge",
   "metadata": {},
   "outputs": [],
   "source": [
    "rouge_a = rouge.compute(predictions=[summary_a], references=[reference])\n",
    "rouge_b = rouge.compute(predictions=[summary_b], references=[reference])"
   ]
  },
  {
   "cell_type": "code",
   "execution_count": null,
   "id": "display-results",
   "metadata": {},
   "outputs": [],
   "source": [
    "print(\"\\nModel A BLEU:\", bleu_a)\n",
    "print(\"Model B BLEU:\", bleu_b)\n",
    "print(\"\\nModel A ROUGE:\", rouge_a)\n",
    "print(\"Model B ROUGE:\", rouge_b)"
   ]
  }
 ],
 "metadata": {
  "kernelspec": {
   "display_name": "Python 3",
   "language": "python",
   "name": "python3"
  },
  "language_info": {
   "codemirror_mode": {
    "name": "ipython",
    "version": 3
   },
   "file_extension": ".py",
   "mimetype": "text/x-python",
   "name": "python",
   "nbconvert_exporter": "python",
   "pygments_lexer": "ipython3",
   "version": "3.8.0"
  }
 },
 "nbformat": 4,
 "nbformat_minor": 5
}
